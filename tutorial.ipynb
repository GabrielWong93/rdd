{
 "cells": [
  {
   "cell_type": "code",
   "execution_count": 1,
   "metadata": {},
   "outputs": [],
   "source": [
    "import numpy as np\n",
    "import pandas as pd\n",
    "import matplotlib.pyplot as plt\n",
    "\n",
    "from rdd import rdd"
   ]
  },
  {
   "cell_type": "markdown",
   "metadata": {},
   "source": [
    "# Generate Some Data"
   ]
  },
  {
   "cell_type": "code",
   "execution_count": 2,
   "metadata": {},
   "outputs": [],
   "source": [
    "np.random.seed(42)"
   ]
  },
  {
   "cell_type": "code",
   "execution_count": 6,
   "metadata": {},
   "outputs": [
    {
     "data": {
      "text/html": [
       "<div>\n",
       "<style scoped>\n",
       "    .dataframe tbody tr th:only-of-type {\n",
       "        vertical-align: middle;\n",
       "    }\n",
       "\n",
       "    .dataframe tbody tr th {\n",
       "        vertical-align: top;\n",
       "    }\n",
       "\n",
       "    .dataframe thead th {\n",
       "        text-align: right;\n",
       "    }\n",
       "</style>\n",
       "<table border=\"1\" class=\"dataframe\">\n",
       "  <thead>\n",
       "    <tr style=\"text-align: right;\">\n",
       "      <th></th>\n",
       "      <th>y</th>\n",
       "      <th>x</th>\n",
       "      <th>w1</th>\n",
       "      <th>w2</th>\n",
       "    </tr>\n",
       "  </thead>\n",
       "  <tbody>\n",
       "    <tr>\n",
       "      <th>0</th>\n",
       "      <td>3.680232</td>\n",
       "      <td>0.781350</td>\n",
       "      <td>-0.265537</td>\n",
       "      <td>5.479512</td>\n",
       "    </tr>\n",
       "    <tr>\n",
       "      <th>1</th>\n",
       "      <td>4.561870</td>\n",
       "      <td>1.382939</td>\n",
       "      <td>-0.857938</td>\n",
       "      <td>-0.433060</td>\n",
       "    </tr>\n",
       "    <tr>\n",
       "      <th>2</th>\n",
       "      <td>5.354771</td>\n",
       "      <td>1.735142</td>\n",
       "      <td>0.447372</td>\n",
       "      <td>-4.332348</td>\n",
       "    </tr>\n",
       "    <tr>\n",
       "      <th>3</th>\n",
       "      <td>-0.572539</td>\n",
       "      <td>-0.183365</td>\n",
       "      <td>-1.014628</td>\n",
       "      <td>5.567843</td>\n",
       "    </tr>\n",
       "    <tr>\n",
       "      <th>4</th>\n",
       "      <td>4.102936</td>\n",
       "      <td>1.100739</td>\n",
       "      <td>1.134335</td>\n",
       "      <td>-0.452707</td>\n",
       "    </tr>\n",
       "  </tbody>\n",
       "</table>\n",
       "</div>"
      ],
      "text/plain": [
       "          y         x        w1        w2\n",
       "0  3.680232  0.781350 -0.265537  5.479512\n",
       "1  4.561870  1.382939 -0.857938 -0.433060\n",
       "2  5.354771  1.735142  0.447372 -4.332348\n",
       "3 -0.572539 -0.183365 -1.014628  5.567843\n",
       "4  4.102936  1.100739  1.134335 -0.452707"
      ]
     },
     "execution_count": 6,
     "metadata": {},
     "output_type": "execute_result"
    }
   ],
   "source": [
    "N = 10000\n",
    "x = np.random.normal(1, 1, N)\n",
    "epsilon = np.random.normal(0, 1, N)\n",
    "forcing = np.where(x >= 1, 1, 0)\n",
    "y = .5 * forcing + 2 * x + 1 + epsilon\n",
    "w1 = np.random.normal(0, 1, N)\n",
    "w2 = np.random.normal(0, 4, N)\n",
    "\n",
    "data = pd.DataFrame({'y':y, 'x': x, 'w1':w1, 'w2':w2})\n",
    "data.head()"
   ]
  },
  {
   "cell_type": "code",
   "execution_count": 8,
   "metadata": {},
   "outputs": [
    {
     "name": "stdout",
     "output_type": "stream",
     "text": [
      "0.8279604341680303\n"
     ]
    }
   ],
   "source": [
    "h = rdd.optimal_bandwidth(data['y'], data['x'], cut=1)\n",
    "print(h)"
   ]
  },
  {
   "cell_type": "code",
   "execution_count": null,
   "metadata": {},
   "outputs": [],
   "source": [
    "\n",
    "data_rdd = rdd.truncated_data(data, 'x', h)\n",
    "\n",
    "results = rdd.rdd(data_rdd, 'x', 'y')\n",
    "\n",
    "print(results.summary())\n",
    "\n",
    "data_binned = rdd.bin_data(data, 'y', 'x', 100)\n",
    "\n",
    "plt.figure()\n",
    "plt.scatter(data_binned['x'], data_binned['y'],\n",
    "    s = data_binned['n_obs'], facecolors='none', edgecolors='r')\n",
    "plt.show()\n",
    "plt.close()\n",
    "\n",
    "print(data_binned['n_obs'].describe())\n",
    "\n",
    "# Show a spline\n",
    "# show placebo with different cuts"
   ]
  },
  {
   "cell_type": "code",
   "execution_count": null,
   "metadata": {},
   "outputs": [],
   "source": []
  }
 ],
 "metadata": {
  "kernelspec": {
   "display_name": "Python 3",
   "language": "python",
   "name": "python3"
  },
  "language_info": {
   "codemirror_mode": {
    "name": "ipython",
    "version": 3
   },
   "file_extension": ".py",
   "mimetype": "text/x-python",
   "name": "python",
   "nbconvert_exporter": "python",
   "pygments_lexer": "ipython3",
   "version": "3.7.3"
  }
 },
 "nbformat": 4,
 "nbformat_minor": 2
}
